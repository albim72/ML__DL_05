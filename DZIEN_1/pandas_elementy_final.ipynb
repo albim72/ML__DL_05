{
 "cells":[
  {
   "cell_type":"code",
   "source":[
    "import pandas as pd\n",
    "import numpy as np"
   ],
   "execution_count":1,
   "outputs":[
    
   ],
   "metadata":{
    "datalore":{
     "node_id":"n5sMoGxTXEihlHXW41cMGt",
     "type":"CODE",
     "hide_input_from_viewers":true,
     "hide_output_from_viewers":true
    }
   }
  },
  {
   "cell_type":"code",
   "source":[
    "s1 = pd.Series([3,5,3,6,37,7,35,8],index=['a','b','c','d','g','n','v','q'], name='wartość')\n",
    "s1"
   ],
   "execution_count":2,
   "outputs":[
    {
     "data":{
      "text\/html":[
       "<pre>a     3\n",
       "b     5\n",
       "c     3\n",
       "d     6\n",
       "g    37\n",
       "n     7\n",
       "v    35\n",
       "q     8\n",
       "Name: wartość, dtype: int64<\/pre>"
      ]
     },
     "metadata":{
      
     },
     "output_type":"display_data"
    }
   ],
   "metadata":{
    "datalore":{
     "node_id":"PLurskLwNN0bCtomn3db6F",
     "type":"CODE",
     "hide_input_from_viewers":true,
     "hide_output_from_viewers":true
    }
   }
  },
  {
   "cell_type":"code",
   "source":[
    "sdata = {'Warszawa':45690,'Lublin':32450,'Kraków':42340,'Gdańsk':38780}\n",
    "s2 = pd.Series(sdata,name='wnioski')\n",
    "s2"
   ],
   "execution_count":3,
   "outputs":[
    {
     "data":{
      "text\/html":[
       "<pre>Warszawa    45690\n",
       "Lublin      32450\n",
       "Kraków      42340\n",
       "Gdańsk      38780\n",
       "Name: wnioski, dtype: int64<\/pre>"
      ]
     },
     "metadata":{
      
     },
     "output_type":"display_data"
    }
   ],
   "metadata":{
    "datalore":{
     "node_id":"rx0Un4rahhXX3CglhNLaAn",
     "type":"CODE",
     "hide_input_from_viewers":true,
     "hide_output_from_viewers":true
    }
   }
  },
  {
   "cell_type":"code",
   "source":[
    "miasta = {'miasto':['Warszawa','Kielce','Białystok','Rzeszów'],\n",
    "          'wnioski':[1230,1009,1340,1020],\n",
    "          'projekty':[8,5,4,4]}\n",
    "\n",
    "frame = pd.DataFrame(miasta,index=[10,11,12,13])\n",
    "frame"
   ],
   "execution_count":5,
   "outputs":[
    {
     "data":{
      "text\/html":[
       "<div>\n",
       "<style scoped>\n",
       "    .dataframe tbody tr th:only-of-type {\n",
       "        vertical-align: middle;\n",
       "    }\n",
       "\n",
       "    .dataframe tbody tr th {\n",
       "        vertical-align: top;\n",
       "    }\n",
       "\n",
       "    .dataframe thead th {\n",
       "        text-align: right;\n",
       "    }\n",
       "<\/style>\n",
       "<table border=\"1\" class=\"dataframe\">\n",
       "  <thead>\n",
       "    <tr style=\"text-align: right;\">\n",
       "      <th><\/th>\n",
       "      <th>miasto<\/th>\n",
       "      <th>wnioski<\/th>\n",
       "      <th>projekty<\/th>\n",
       "    <\/tr>\n",
       "  <\/thead>\n",
       "  <tbody>\n",
       "    <tr>\n",
       "      <th>10<\/th>\n",
       "      <td>Warszawa<\/td>\n",
       "      <td>1230<\/td>\n",
       "      <td>8<\/td>\n",
       "    <\/tr>\n",
       "    <tr>\n",
       "      <th>11<\/th>\n",
       "      <td>Kielce<\/td>\n",
       "      <td>1009<\/td>\n",
       "      <td>5<\/td>\n",
       "    <\/tr>\n",
       "    <tr>\n",
       "      <th>12<\/th>\n",
       "      <td>Białystok<\/td>\n",
       "      <td>1340<\/td>\n",
       "      <td>4<\/td>\n",
       "    <\/tr>\n",
       "    <tr>\n",
       "      <th>13<\/th>\n",
       "      <td>Rzeszów<\/td>\n",
       "      <td>1020<\/td>\n",
       "      <td>4<\/td>\n",
       "    <\/tr>\n",
       "  <\/tbody>\n",
       "<\/table>\n",
       "<\/div>"
      ]
     },
     "metadata":{
      
     },
     "output_type":"display_data"
    }
   ],
   "metadata":{
    "datalore":{
     "node_id":"ftsxXiKXWm8aSUgMbp7iQ0",
     "type":"CODE",
     "hide_input_from_viewers":true,
     "hide_output_from_viewers":true
    }
   }
  },
  {
   "cell_type":"code",
   "source":[
    "daty = pd.date_range(\"20240513\",periods=6)\n",
    "daty"
   ],
   "execution_count":10,
   "outputs":[
    {
     "data":{
      "text\/plain":[
       "DatetimeIndex(['2024-05-13', '2024-05-14', '2024-05-15', '2024-05-16',\n",
       "               '2024-05-17', '2024-05-18'],\n",
       "              dtype='datetime64[ns]', freq='D')"
      ]
     },
     "metadata":{
      
     },
     "output_type":"display_data"
    }
   ],
   "metadata":{
    "datalore":{
     "node_id":"2itxy5bKjes5CSrELGVyfS",
     "type":"CODE",
     "hide_input_from_viewers":true,
     "hide_output_from_viewers":true
    }
   }
  },
  {
   "cell_type":"code",
   "source":[
    "df = pd.DataFrame(np.random.randn(6,4),index=daty,columns=list(\"ABCD\"))\n",
    "df"
   ],
   "execution_count":11,
   "outputs":[
    {
     "data":{
      "text\/html":[
       "<div>\n",
       "<style scoped>\n",
       "    .dataframe tbody tr th:only-of-type {\n",
       "        vertical-align: middle;\n",
       "    }\n",
       "\n",
       "    .dataframe tbody tr th {\n",
       "        vertical-align: top;\n",
       "    }\n",
       "\n",
       "    .dataframe thead th {\n",
       "        text-align: right;\n",
       "    }\n",
       "<\/style>\n",
       "<table border=\"1\" class=\"dataframe\">\n",
       "  <thead>\n",
       "    <tr style=\"text-align: right;\">\n",
       "      <th><\/th>\n",
       "      <th>A<\/th>\n",
       "      <th>B<\/th>\n",
       "      <th>C<\/th>\n",
       "      <th>D<\/th>\n",
       "    <\/tr>\n",
       "  <\/thead>\n",
       "  <tbody>\n",
       "    <tr>\n",
       "      <th>2024-05-13<\/th>\n",
       "      <td>-0.056564<\/td>\n",
       "      <td>-0.313544<\/td>\n",
       "      <td>1.518806<\/td>\n",
       "      <td>-1.628442<\/td>\n",
       "    <\/tr>\n",
       "    <tr>\n",
       "      <th>2024-05-14<\/th>\n",
       "      <td>-1.161920<\/td>\n",
       "      <td>1.282876<\/td>\n",
       "      <td>0.323039<\/td>\n",
       "      <td>0.678984<\/td>\n",
       "    <\/tr>\n",
       "    <tr>\n",
       "      <th>2024-05-15<\/th>\n",
       "      <td>-0.690766<\/td>\n",
       "      <td>0.023006<\/td>\n",
       "      <td>1.870558<\/td>\n",
       "      <td>0.896517<\/td>\n",
       "    <\/tr>\n",
       "    <tr>\n",
       "      <th>2024-05-16<\/th>\n",
       "      <td>-0.851629<\/td>\n",
       "      <td>-0.371101<\/td>\n",
       "      <td>0.709109<\/td>\n",
       "      <td>0.080605<\/td>\n",
       "    <\/tr>\n",
       "    <tr>\n",
       "      <th>2024-05-17<\/th>\n",
       "      <td>1.758177<\/td>\n",
       "      <td>1.787682<\/td>\n",
       "      <td>0.174084<\/td>\n",
       "      <td>-1.071502<\/td>\n",
       "    <\/tr>\n",
       "    <tr>\n",
       "      <th>2024-05-18<\/th>\n",
       "      <td>-0.552972<\/td>\n",
       "      <td>0.209883<\/td>\n",
       "      <td>-0.268830<\/td>\n",
       "      <td>-0.821139<\/td>\n",
       "    <\/tr>\n",
       "  <\/tbody>\n",
       "<\/table>\n",
       "<\/div>"
      ]
     },
     "metadata":{
      
     },
     "output_type":"display_data"
    }
   ],
   "metadata":{
    "datalore":{
     "node_id":"Htj3eHyvVLyYrmahaK3O1f",
     "type":"CODE",
     "hide_input_from_viewers":true,
     "hide_output_from_viewers":true
    }
   }
  },
  {
   "cell_type":"code",
   "source":[
    "m = \"ABCD\"\n",
    "m"
   ],
   "execution_count":12,
   "outputs":[
    {
     "data":{
      "text\/plain":[
       "'ABCD'"
      ]
     },
     "metadata":{
      
     },
     "output_type":"display_data"
    }
   ],
   "metadata":{
    "datalore":{
     "node_id":"FZKQJgmKRRWtkbYWlFVcmX",
     "type":"CODE",
     "hide_input_from_viewers":true,
     "hide_output_from_viewers":true
    }
   }
  },
  {
   "cell_type":"code",
   "source":[
    "m[0]"
   ],
   "execution_count":13,
   "outputs":[
    {
     "data":{
      "text\/plain":[
       "'A'"
      ]
     },
     "metadata":{
      
     },
     "output_type":"display_data"
    }
   ],
   "metadata":{
    "datalore":{
     "node_id":"bO5A3XjvnzhSfnrR4EcWC7",
     "type":"CODE",
     "hide_input_from_viewers":true,
     "hide_output_from_viewers":true
    }
   }
  },
  {
   "cell_type":"code",
   "source":[
    "m[2]"
   ],
   "execution_count":14,
   "outputs":[
    {
     "data":{
      "text\/plain":[
       "'C'"
      ]
     },
     "metadata":{
      
     },
     "output_type":"display_data"
    }
   ],
   "metadata":{
    "datalore":{
     "node_id":"9XXUxguDhuTAKvWwC0XYrZ",
     "type":"CODE",
     "hide_input_from_viewers":true,
     "hide_output_from_viewers":true
    }
   }
  },
  {
   "cell_type":"code",
   "source":[
    "m[1:3]"
   ],
   "execution_count":15,
   "outputs":[
    {
     "data":{
      "text\/plain":[
       "'BC'"
      ]
     },
     "metadata":{
      
     },
     "output_type":"display_data"
    }
   ],
   "metadata":{
    "datalore":{
     "node_id":"cr3nZIP8eyyRDFGwhnPE1t",
     "type":"CODE",
     "hide_input_from_viewers":true,
     "hide_output_from_viewers":true
    }
   }
  },
  {
   "cell_type":"code",
   "source":[
    "m[-1]"
   ],
   "execution_count":16,
   "outputs":[
    {
     "data":{
      "text\/plain":[
       "'D'"
      ]
     },
     "metadata":{
      
     },
     "output_type":"display_data"
    }
   ],
   "metadata":{
    "datalore":{
     "node_id":"i5qsAtn0o4rectwppMIGtp",
     "type":"CODE",
     "hide_input_from_viewers":true,
     "hide_output_from_viewers":true
    }
   }
  }
 ],
 "metadata":{
  "kernelspec":{
   "display_name":"Python",
   "language":"python",
   "name":"python"
  },
  "datalore":{
   "computation_mode":"JUPYTER",
   "package_manager":"pip",
   "base_environment":"default",
   "packages":[
    
   ],
   "report_row_ids":[
    
   ],
   "version":3
  }
 },
 "nbformat":4,
 "nbformat_minor":4
}